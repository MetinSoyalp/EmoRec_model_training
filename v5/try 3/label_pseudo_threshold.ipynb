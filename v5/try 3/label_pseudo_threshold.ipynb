{
 "cells": [
  {
   "cell_type": "code",
   "execution_count": 1,
   "metadata": {},
   "outputs": [
    {
     "name": "stderr",
     "output_type": "stream",
     "text": [
      "c:\\Users\\Asus\\AppData\\Local\\Programs\\Python\\Python312\\Lib\\site-packages\\tqdm\\auto.py:21: TqdmWarning: IProgress not found. Please update jupyter and ipywidgets. See https://ipywidgets.readthedocs.io/en/stable/user_install.html\n",
      "  from .autonotebook import tqdm as notebook_tqdm\n"
     ]
    }
   ],
   "source": [
    "import pandas as pd\n",
    "from transformers import BertTokenizer, BertForSequenceClassification, Trainer, TrainingArguments\n",
    "import torch\n",
    "from sklearn.metrics import confusion_matrix, ConfusionMatrixDisplay, f1_score, precision_score, recall_score\n",
    "import matplotlib.pyplot as plt\n",
    "import seaborn as sns\n",
    "import numpy as np"
   ]
  },
  {
   "cell_type": "code",
   "execution_count": 3,
   "metadata": {},
   "outputs": [
    {
     "name": "stdout",
     "output_type": "stream",
     "text": [
      "anger           2981\n",
      "anticipation    1710\n",
      "disgust         3036\n",
      "fear            1895\n",
      "joy             2883\n",
      "love            1220\n",
      "optimism        2305\n",
      "pessimism       1379\n",
      "sadness         2331\n",
      "surprise         796\n",
      "trust            791\n",
      "dtype: int64\n",
      "Total data: 11672\n"
     ]
    }
   ],
   "source": [
    "df_train = pd.read_csv(\"./training_data/merged_train_i3.csv\", sep=';' )\n",
    "\n",
    "numeric_column_sums = df_train.select_dtypes(include='number').sum()\n",
    "print(numeric_column_sums)\n",
    "print(f\"Total data: {df_train.shape[0]}\")\n"
   ]
  },
  {
   "cell_type": "code",
   "execution_count": 4,
   "metadata": {},
   "outputs": [
    {
     "name": "stdout",
     "output_type": "stream",
     "text": [
      "[0.837, 0.823, 0.816, 0.828, 0.893, 0.79, 0.763, 0.693, 0.778, 0.807, 0.721]\n"
     ]
    }
   ],
   "source": [
    "def adaptive_thresholding(predictions, target_count, initial_threshold=0.99, step=0.001):\n",
    "    \n",
    "    total_pseudo_labels = 0\n",
    "    \n",
    "    while total_pseudo_labels < target_count:\n",
    "\n",
    "        pseudo_labels = [ (0 if item < initial_threshold else 1) for item in predictions]\n",
    "        total_pseudo_labels = np.sum(pseudo_labels)\n",
    "        \n",
    "        if total_pseudo_labels >= target_count:\n",
    "            break\n",
    "\n",
    "        if initial_threshold < 0.1:\n",
    "            break\n",
    "\n",
    "        initial_threshold -= step\n",
    "    \n",
    "    return initial_threshold\n",
    "\n",
    "not_chosen_columns = ['ID', 'Tweet']\n",
    "label_columns = [col for col in df_train.columns if col not in not_chosen_columns]\n",
    "\n",
    "increase_needed = [140, 282, 143, 246, 137, 202, 109, 229, 111, 183, 181]\n",
    "pseudo_thresholds = []\n",
    "\n",
    "df_goemotion = pd.read_csv(\"./pseudo_labeled_data/pseudo_labeled_dataset_i2.csv\", sep=';')\n",
    "\n",
    "for i in range( len(label_columns) ):\n",
    "    \n",
    "    predic_list = df_goemotion[label_columns[i]].tolist()\n",
    "    result_threshold = adaptive_thresholding(predic_list, increase_needed[i])\n",
    "    pseudo_thresholds.append(round(result_threshold, 3))\n",
    "\n",
    "print(pseudo_thresholds)"
   ]
  },
  {
   "cell_type": "code",
   "execution_count": null,
   "metadata": {},
   "outputs": [],
   "source": [
    "df_goemotion_result = df_goemotion.copy()\n",
    "\n",
    "for i in range( len(label_columns) ):\n",
    "    label = label_columns[i]\n",
    "    df_goemotion_result[label] = df_goemotion_result[label].apply(lambda val: 0 if val < pseudo_thresholds[i] else 1 )\n",
    "\n",
    "df_filtered = df_goemotion_result.loc[(df_goemotion_result[label_columns].sum(axis=1) > 0)]\n",
    "df_remaining = df_goemotion_result.loc[(df_goemotion_result[label_columns].sum(axis=1) == 0)]\n",
    "df_combined = pd.concat([df_train, df_filtered], ignore_index=True)\n",
    "\n",
    "df_remaining.to_csv('goemotion_train_i4.csv', sep=';', encoding='utf_8', index=False)\n",
    "df_combined.to_csv('merged_train_i4.csv', sep=';', encoding='utf_8', index=False)\n"
   ]
  }
 ],
 "metadata": {
  "kernelspec": {
   "display_name": "Python 3",
   "language": "python",
   "name": "python3"
  },
  "language_info": {
   "codemirror_mode": {
    "name": "ipython",
    "version": 3
   },
   "file_extension": ".py",
   "mimetype": "text/x-python",
   "name": "python",
   "nbconvert_exporter": "python",
   "pygments_lexer": "ipython3",
   "version": "3.12.0"
  }
 },
 "nbformat": 4,
 "nbformat_minor": 2
}
