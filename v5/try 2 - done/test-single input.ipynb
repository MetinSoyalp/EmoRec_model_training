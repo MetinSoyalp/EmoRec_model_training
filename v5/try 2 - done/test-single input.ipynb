{
 "cells": [
  {
   "cell_type": "code",
   "execution_count": 1,
   "metadata": {},
   "outputs": [
    {
     "name": "stderr",
     "output_type": "stream",
     "text": [
      "c:\\Users\\Asus\\AppData\\Local\\Programs\\Python\\Python312\\Lib\\site-packages\\tqdm\\auto.py:21: TqdmWarning: IProgress not found. Please update jupyter and ipywidgets. See https://ipywidgets.readthedocs.io/en/stable/user_install.html\n",
      "  from .autonotebook import tqdm as notebook_tqdm\n"
     ]
    }
   ],
   "source": [
    "import pandas as pd\n",
    "from transformers import BertTokenizer, BertForSequenceClassification, Trainer, TrainingArguments\n",
    "import torch\n",
    "from sklearn.metrics import confusion_matrix, ConfusionMatrixDisplay, f1_score, precision_score, recall_score\n",
    "import matplotlib.pyplot as plt\n",
    "import seaborn as sns\n",
    "import numpy as np"
   ]
  },
  {
   "cell_type": "code",
   "execution_count": 4,
   "metadata": {},
   "outputs": [],
   "source": [
    "\n",
    "test_text = \"\"\"I don't get it. I just don't. This is one of the most revered movies of all time. And I just hate it. I don't understand how anybody who isn't a child could like this.\\n\\nMy chief complaint is that everybody in the Land of Oz (including Dorothy) is extremely annoying. I spend the entire time just wanting everybody to calm down. The worst ones are the munchkins who speak in incredibly irritating voices, wear hideous costumes and sing a song that lasts a million years. Not to mention that they feel quite offensive towards little people to me. And nobody can talk properly either! (Somebody could argue that everyone in Oz is imagined by a child so that's why they behave so weirdly. That doesn't stop it from being extremely unpleasant to watch them, though.)\\n\\nThe music is also all terrible (except for Somewhere Over the Rainbow). Whenever a musical number started I would roll my eyes and pray that it wouldn't go on too long.\\n\\nI don't think this opinion could convince anyone who likes this movie because I'm basically just ranting, saying that I find it annoying. But that's how I feel. Everything just irritates and infuriates me. And I don't just hate old movies by the way: I love plenty of movies that are as old or older than The Wizard of Oz. I even like some children's movies from the time like Snow White and the Seven Dwarfs. So I don't know what happened here.\\n\\nIf I have to give some positives, I guess that the movie looks good for 1939 and the black-and-white section at the beginning is fine. (The scene with the fortune teller is actually kind of good.) And admittedly there are some pretty clever ideas like the transition from black-and-white to colour and the Wizard actually being a normal man. This movie is technically not a complete wash but I find it outrageously irritating.\\n\\nP. S.: Dorothy looks 17 but acts like she's 8 (she's meant to be 12) and I find this really unsettling.\"\"\"\n",
    "\n",
    "tokenizer = BertTokenizer.from_pretrained(\"saved_model_try_5\")\n",
    "model = BertForSequenceClassification.from_pretrained(\"saved_model_try_5\")"
   ]
  },
  {
   "cell_type": "code",
   "execution_count": 5,
   "metadata": {},
   "outputs": [
    {
     "data": {
      "text/html": [
       "<div>\n",
       "<style scoped>\n",
       "    .dataframe tbody tr th:only-of-type {\n",
       "        vertical-align: middle;\n",
       "    }\n",
       "\n",
       "    .dataframe tbody tr th {\n",
       "        vertical-align: top;\n",
       "    }\n",
       "\n",
       "    .dataframe thead th {\n",
       "        text-align: right;\n",
       "    }\n",
       "</style>\n",
       "<table border=\"1\" class=\"dataframe\">\n",
       "  <thead>\n",
       "    <tr style=\"text-align: right;\">\n",
       "      <th></th>\n",
       "      <th>anger</th>\n",
       "      <th>anticipation</th>\n",
       "      <th>disgust</th>\n",
       "      <th>fear</th>\n",
       "      <th>joy</th>\n",
       "      <th>love</th>\n",
       "      <th>optimism</th>\n",
       "      <th>pessimism</th>\n",
       "      <th>sadness</th>\n",
       "      <th>surprise</th>\n",
       "      <th>trust</th>\n",
       "    </tr>\n",
       "  </thead>\n",
       "  <tbody>\n",
       "    <tr>\n",
       "      <th>0</th>\n",
       "      <td>0.852917</td>\n",
       "      <td>0.097523</td>\n",
       "      <td>0.842072</td>\n",
       "      <td>0.112649</td>\n",
       "      <td>0.082671</td>\n",
       "      <td>0.031457</td>\n",
       "      <td>0.059509</td>\n",
       "      <td>0.202234</td>\n",
       "      <td>0.403145</td>\n",
       "      <td>0.145829</td>\n",
       "      <td>0.044241</td>\n",
       "    </tr>\n",
       "  </tbody>\n",
       "</table>\n",
       "</div>"
      ],
      "text/plain": [
       "      anger  anticipation   disgust      fear       joy      love  optimism  \\\n",
       "0  0.852917      0.097523  0.842072  0.112649  0.082671  0.031457  0.059509   \n",
       "\n",
       "   pessimism   sadness  surprise     trust  \n",
       "0   0.202234  0.403145  0.145829  0.044241  "
      ]
     },
     "execution_count": 5,
     "metadata": {},
     "output_type": "execute_result"
    }
   ],
   "source": [
    "model.eval()\n",
    "device = torch.device(\"cuda\" if torch.cuda.is_available() else \"cpu\")\n",
    "\n",
    "inputs = tokenizer(test_text, padding=True, truncation=True, return_tensors=\"pt\")\n",
    "inputs = inputs.to(device)\n",
    "\n",
    "with torch.no_grad():\n",
    "    outputs = model(**inputs)\n",
    "\n",
    "logits = outputs.logits\n",
    "probabilities = torch.sigmoid(logits)  # Apply sigmoid to convert logits to probabilities\n",
    "probabilities = probabilities.squeeze(0)\n",
    "\n",
    "threshold = 0.5\n",
    "predicted_labels = (probabilities > threshold).long()\n",
    "\n",
    "probabilities = probabilities.tolist()\n",
    "m_result = []\n",
    "m_result.append(probabilities)\n",
    "\n",
    "emotions = [\"anger\", \"anticipation\", \"disgust\", \"fear\", \"joy\", \"love\", \"optimism\", \"pessimism\", \"sadness\", \"surprise\", \"trust\"]\n",
    "\n",
    "results = pd.DataFrame(m_result, columns=emotions)\n",
    "\n",
    "results"
   ]
  }
 ],
 "metadata": {
  "kernelspec": {
   "display_name": "Python 3",
   "language": "python",
   "name": "python3"
  },
  "language_info": {
   "codemirror_mode": {
    "name": "ipython",
    "version": 3
   },
   "file_extension": ".py",
   "mimetype": "text/x-python",
   "name": "python",
   "nbconvert_exporter": "python",
   "pygments_lexer": "ipython3",
   "version": "3.12.0"
  }
 },
 "nbformat": 4,
 "nbformat_minor": 2
}
