{
 "cells": [
  {
   "cell_type": "code",
   "execution_count": 1,
   "metadata": {},
   "outputs": [
    {
     "name": "stderr",
     "output_type": "stream",
     "text": [
      "c:\\Users\\Asus\\AppData\\Local\\Programs\\Python\\Python312\\Lib\\site-packages\\tqdm\\auto.py:21: TqdmWarning: IProgress not found. Please update jupyter and ipywidgets. See https://ipywidgets.readthedocs.io/en/stable/user_install.html\n",
      "  from .autonotebook import tqdm as notebook_tqdm\n"
     ]
    }
   ],
   "source": [
    "import pandas as pd\n",
    "from transformers import BertTokenizer, BertForSequenceClassification, Trainer, TrainingArguments\n",
    "import torch\n",
    "from sklearn.metrics import confusion_matrix, ConfusionMatrixDisplay, f1_score, precision_score, recall_score\n",
    "import matplotlib.pyplot as plt\n",
    "import seaborn as sns\n",
    "import numpy as np"
   ]
  },
  {
   "cell_type": "code",
   "execution_count": 2,
   "metadata": {},
   "outputs": [
    {
     "name": "stdout",
     "output_type": "stream",
     "text": [
      "anger           3083\n",
      "anticipation    2252\n",
      "disgust         3251\n",
      "fear            1721\n",
      "joy             3389\n",
      "love             893\n",
      "optimism        2839\n",
      "pessimism       1684\n",
      "sadness         2794\n",
      "surprise         881\n",
      "trust            859\n",
      "dtype: int64\n",
      "Total data: 9329\n"
     ]
    }
   ],
   "source": [
    "df_train = pd.read_csv(\"./training_data/extended_dataset.csv\", sep=';' )\n",
    "\n",
    "numeric_column_sums = df_train.select_dtypes(include='number').sum()\n",
    "print(numeric_column_sums)\n",
    "print(f\"Total data: {df_train.shape[0]}\")\n"
   ]
  },
  {
   "cell_type": "code",
   "execution_count": 3,
   "metadata": {},
   "outputs": [
    {
     "name": "stdout",
     "output_type": "stream",
     "text": [
      "[0.944, 0.828, 0.914, 0.842, 0.969, 0.902, 0.911, 0.791, 0.91, 0.763, 0.775]\n"
     ]
    }
   ],
   "source": [
    "def adaptive_thresholding(predictions, target_count, initial_threshold=0.99, step=0.001):\n",
    "    \n",
    "    total_pseudo_labels = 0\n",
    "    \n",
    "    while total_pseudo_labels < target_count:\n",
    "\n",
    "        pseudo_labels = [ (0 if item < initial_threshold else 1) for item in predictions]\n",
    "        total_pseudo_labels = np.sum(pseudo_labels)\n",
    "        \n",
    "        if total_pseudo_labels >= target_count:\n",
    "            break\n",
    "\n",
    "        if initial_threshold < 0.1:\n",
    "            break\n",
    "\n",
    "        initial_threshold -= step\n",
    "    \n",
    "    return initial_threshold\n",
    "\n",
    "not_chosen_columns = ['ID', 'Tweet']\n",
    "label_columns = [col for col in df_train.columns if col not in not_chosen_columns]\n",
    "\n",
    "#increase_needed = [154, 225, 163, 258, 169, 179, 142, 168, 140, 176, 172]\n",
    "increase_needed = [925, 676, 975, 516, 1017, 268, 852, 505, 838, 264, 258]\n",
    "pseudo_thresholds = []\n",
    "\n",
    "df_goemotion = pd.read_csv(\"./pseudo_labeled_data/pseudo_labeled_dataset_i1.csv\", sep=';')\n",
    "\n",
    "for i in range( len(label_columns) ):\n",
    "    \n",
    "    predic_list = df_goemotion[label_columns[i]].tolist()\n",
    "    result_threshold = adaptive_thresholding(predic_list, increase_needed[i])\n",
    "    pseudo_thresholds.append(round(result_threshold, 3))\n",
    "\n",
    "print(pseudo_thresholds)"
   ]
  },
  {
   "cell_type": "code",
   "execution_count": 4,
   "metadata": {},
   "outputs": [],
   "source": [
    "df_goemotion_result = df_goemotion.copy()\n",
    "\n",
    "for i in range( len(label_columns) ):\n",
    "    label = label_columns[i]\n",
    "    df_goemotion_result[label] = df_goemotion_result[label].apply(lambda val: 0 if val < pseudo_thresholds[i] else 1 )\n",
    "\n",
    "df_filtered = df_goemotion_result.loc[(df_goemotion_result[label_columns].sum(axis=1) > 0)]\n",
    "df_remaining = df_goemotion_result.loc[(df_goemotion_result[label_columns].sum(axis=1) == 0)]\n",
    "df_combined = pd.concat([df_train, df_filtered], ignore_index=True)\n",
    "\n",
    "df_remaining.to_csv('goemotion_train_i4.csv', sep=';', encoding='utf_8', index=False)\n",
    "df_combined.to_csv('merged_train_i4.csv', sep=';', encoding='utf_8', index=False)\n"
   ]
  }
 ],
 "metadata": {
  "kernelspec": {
   "display_name": "Python 3",
   "language": "python",
   "name": "python3"
  },
  "language_info": {
   "codemirror_mode": {
    "name": "ipython",
    "version": 3
   },
   "file_extension": ".py",
   "mimetype": "text/x-python",
   "name": "python",
   "nbconvert_exporter": "python",
   "pygments_lexer": "ipython3",
   "version": "3.12.0"
  }
 },
 "nbformat": 4,
 "nbformat_minor": 2
}
